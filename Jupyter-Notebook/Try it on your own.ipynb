{
 "cells": [
  {
   "cell_type": "code",
   "execution_count": null,
   "metadata": {},
   "outputs": [],
   "source": [
    "#Run this file to make sure that all the libraries used are installed\n",
    "! pip install -r requirements.txt"
   ]
  },
  {
   "cell_type": "code",
   "execution_count": 1,
   "metadata": {},
   "outputs": [],
   "source": [
    "from lasCheck import *"
   ]
  },
  {
   "cell_type": "code",
   "execution_count": 2,
   "metadata": {},
   "outputs": [],
   "source": [
    "#define the logs that we are interested in our las files, select based on the alias name on the JSON file\n",
    "logs_selected= ['CAL', 'RXO', 'GR', 'POR', 'DRES', 'DT', 'DENS', 'DRHO'] \n",
    "filepath=r'D:\\logChecker\\**\\*.las'"
   ]
  },
  {
   "cell_type": "code",
   "execution_count": 3,
   "metadata": {},
   "outputs": [],
   "source": [
    "#insert the filepath into the pre-defined function on the lasCheck class.\n",
    "logcheck=lasCheck(filepath)"
   ]
  },
  {
   "cell_type": "code",
   "execution_count": 4,
   "metadata": {},
   "outputs": [
    {
     "name": "stdout",
     "output_type": "stream",
     "text": [
      "          Well Name      START         STOP   STEP  \\\n",
      "0        well-1.las  3001.0000  4460.000000  0.500   \n",
      "1        well-2.las  3001.0000  4521.500000  0.500   \n",
      "2        well-3.las  3001.0000  4759.500000  0.500   \n",
      "3  another-well.las    25.0000  3210.005615  0.152   \n",
      "4          puk1.las  1860.0000  4918.000000  0.500   \n",
      "5      well-try.las   506.2728  1452.981600  0.000   \n",
      "\n",
      "                             Location CAL RXO GR POR DRES   DT DENS DRHO  \n",
      "0            D:\\logChecker\\well-1.las   X   X  X   X    X    X    X  NaN  \n",
      "1            D:\\logChecker\\well-2.las   X   X  X   X    X    X    X  NaN  \n",
      "2            D:\\logChecker\\well-3.las   X   X  X   X    X    X    X  NaN  \n",
      "3  D:\\logChecker\\new\\another-well.las   X   X  X   X  NaN  NaN    X    X  \n",
      "4          D:\\logChecker\\new\\puk1.las   X   X  X   X    X    X    X  NaN  \n",
      "5      D:\\logChecker\\new\\well-try.las   X   X  X   X    X    X    X    X  \n"
     ]
    }
   ],
   "source": [
    "#insert the log selected list to the report function\n",
    "logs_checked=logcheck.report(logs_selected)"
   ]
  },
  {
   "cell_type": "code",
   "execution_count": 5,
   "metadata": {},
   "outputs": [
    {
     "name": "stdout",
     "output_type": "stream",
     "text": [
      "          Well Name      START         STOP   STEP  \\\n",
      "0        well-1.las  3001.0000  4460.000000  0.500   \n",
      "1        well-2.las  3001.0000  4521.500000  0.500   \n",
      "2        well-3.las  3001.0000  4759.500000  0.500   \n",
      "3  another-well.las    25.0000  3210.005615  0.152   \n",
      "4          puk1.las  1860.0000  4918.000000  0.500   \n",
      "5      well-try.las   506.2728  1452.981600  0.000   \n",
      "\n",
      "                             Location CAL RXO   DT DRES  \n",
      "0            D:\\logChecker\\well-1.las   X   X    X    X  \n",
      "1            D:\\logChecker\\well-2.las   X   X    X    X  \n",
      "2            D:\\logChecker\\well-3.las   X   X    X    X  \n",
      "3  D:\\logChecker\\new\\another-well.las   X   X  NaN  NaN  \n",
      "4          D:\\logChecker\\new\\puk1.las   X   X    X    X  \n",
      "5      D:\\logChecker\\new\\well-try.las   X   X    X    X  \n"
     ]
    }
   ],
   "source": [
    "#we can also put the logs by passing a list of the logs like this\n",
    "logs_checked=logcheck.report(['CAL', 'RXO', 'DT', 'DRES'])"
   ]
  },
  {
   "cell_type": "code",
   "execution_count": 6,
   "metadata": {},
   "outputs": [],
   "source": [
    "#export the report into an xlsx file.\n",
    "logs_checked.to_excel('myLogAvailability.xlsx')"
   ]
  }
 ],
 "metadata": {
  "kernelspec": {
   "display_name": "Python 3",
   "language": "python",
   "name": "python3"
  },
  "language_info": {
   "codemirror_mode": {
    "name": "ipython",
    "version": 3
   },
   "file_extension": ".py",
   "mimetype": "text/x-python",
   "name": "python",
   "nbconvert_exporter": "python",
   "pygments_lexer": "ipython3",
   "version": "3.7.7"
  }
 },
 "nbformat": 4,
 "nbformat_minor": 4
}
